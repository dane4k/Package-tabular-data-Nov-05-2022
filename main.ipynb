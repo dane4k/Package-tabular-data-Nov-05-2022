{
 "cells": [
  {
   "cell_type": "code",
   "execution_count": 4,
   "id": "7f9b8e32",
   "metadata": {},
   "outputs": [
    {
     "name": "stdout",
     "output_type": "stream",
     "text": [
      "Requirement already satisfied: prettytable in c:\\users\\danya\\anaconda3\\lib\\site-packages (3.5.0)\n",
      "Requirement already satisfied: wcwidth in c:\\users\\danya\\anaconda3\\lib\\site-packages (from prettytable) (0.2.5)\n"
     ]
    }
   ],
   "source": [
    "! pip install prettytable"
   ]
  },
  {
   "cell_type": "markdown",
   "id": "8185c241",
   "metadata": {},
   "source": [
    "__load_table и save_table__"
   ]
  },
  {
   "cell_type": "code",
   "execution_count": 12,
   "id": "6433c935",
   "metadata": {},
   "outputs": [
    {
     "name": "stdout",
     "output_type": "stream",
     "text": [
      "ID\tВышестоящий отдел\tНазвание\n",
      "OU001\t56\tКоммерческий департамент\n",
      "OU002\t1111\tМаректинг и реклама\n",
      "OU003\t789\tДепартамент персонала\n",
      "OU004\t394\tСервисный департамент\n",
      "OU005\t12\tТехническая поддержка\n",
      "OU006\t777\tЗакупки \n",
      "\n",
      "Таблица сохранена!\n"
     ]
    }
   ],
   "source": [
    "from my_package import csvfile\n",
    "\n",
    "csvfile.load_table('import_ou_csv.csv')\n",
    "\n",
    "csvfile.save_table('savetable.csv', table)"
   ]
  },
  {
   "cell_type": "code",
   "execution_count": 14,
   "id": "3612a311",
   "metadata": {
    "scrolled": true
   },
   "outputs": [
    {
     "name": "stdout",
     "output_type": "stream",
     "text": [
      "ID\tВышестоящий отдел\tНазвание\n",
      "OU001\t56\tКоммерческий департамент\n",
      "OU002\t111\tМаркетинг и реклама\n",
      "OU003\t789\tДепартамент персонала\n",
      "OU004\t394\tСервисный департамент\n",
      "OU005\t12\tТехническая поддержка\n",
      "OU006\t777\tЗакупки \n"
     ]
    }
   ],
   "source": [
    "from my_package import picklefile\n",
    "\n",
    "picklefile.save_table(table, 'pickle_file.pickle')\n",
    "\n",
    "picklefile.load_table('pickle_file.pickle')"
   ]
  },
  {
   "cell_type": "code",
   "execution_count": 25,
   "id": "10290f23",
   "metadata": {},
   "outputs": [],
   "source": [
    "from my_package import txtfile\n",
    "\n",
    "txtfile.save_table(table, 'txttable.txt')"
   ]
  },
  {
   "cell_type": "markdown",
   "id": "d9aee906",
   "metadata": {},
   "source": [
    "__Базовые задания__"
   ]
  },
  {
   "cell_type": "code",
   "execution_count": 26,
   "id": "1f641581",
   "metadata": {},
   "outputs": [],
   "source": [
    "from my_package import base"
   ]
  },
  {
   "cell_type": "code",
   "execution_count": 27,
   "id": "e3cdaec0",
   "metadata": {},
   "outputs": [
    {
     "name": "stdout",
     "output_type": "stream",
     "text": [
      "ID\tВышестоящий отдел\tНазвание\n",
      "OU002\t111\tМаркетинг и реклама\n",
      "OU003\t789\tДепартамент персонала\n",
      "OU004\t394\tСервисный департамент\n"
     ]
    }
   ],
   "source": [
    "base.get_rows_by_number(table, 2, 4)"
   ]
  },
  {
   "cell_type": "code",
   "execution_count": 28,
   "id": "b64df662",
   "metadata": {},
   "outputs": [
    {
     "name": "stdout",
     "output_type": "stream",
     "text": [
      "OU001 56 Коммерческий департамент\n",
      "OU004 394 Сервисный департамент\n",
      "OU006 777 Закупки \n"
     ]
    }
   ],
   "source": [
    "base.get_rows_by_index(table, 'OU001', 'OU004', 'OU006')"
   ]
  },
  {
   "cell_type": "code",
   "execution_count": 34,
   "id": "cf00a251",
   "metadata": {
    "scrolled": true
   },
   "outputs": [
    {
     "name": "stdout",
     "output_type": "stream",
     "text": [
      "{'ID': 'str', 'Вышестоящий отдел': 'int', 'Название': 'str'}\n"
     ]
    }
   ],
   "source": [
    "base.get_column_types(table, by_number=False)"
   ]
  },
  {
   "cell_type": "code",
   "execution_count": 30,
   "id": "4968285c",
   "metadata": {},
   "outputs": [
    {
     "name": "stdout",
     "output_type": "stream",
     "text": [
      "{'ID': 'str', 'Вышестоящий отдел': 'str', 'Название': 'str'}\n"
     ]
    }
   ],
   "source": [
    "base.set_column_types(table, 'str', by_number=False)"
   ]
  },
  {
   "cell_type": "code",
   "execution_count": 35,
   "id": "b50de648",
   "metadata": {},
   "outputs": [
    {
     "name": "stdout",
     "output_type": "stream",
     "text": [
      "[['ID', 'str'], ['Вышестоящий отдел', 'str'], ['Название', 'str']]\n"
     ]
    }
   ],
   "source": [
    "base.get_values(table)"
   ]
  },
  {
   "cell_type": "code",
   "execution_count": 36,
   "id": "39f7a145",
   "metadata": {},
   "outputs": [
    {
     "name": "stdout",
     "output_type": "stream",
     "text": [
      "str\n"
     ]
    }
   ],
   "source": [
    "base.get_value(table, 2)"
   ]
  },
  {
   "cell_type": "code",
   "execution_count": 37,
   "id": "d98a60e9",
   "metadata": {},
   "outputs": [
    {
     "name": "stdout",
     "output_type": "stream",
     "text": [
      "ID\tВышестоящий отдел\tНазвание\n",
      "True\t56.0\tКоммерческий департамент\n",
      "True\t111.0\tМаркетинг и реклама\n",
      "True\t789.0\tДепартамент персонала\n",
      "True\t394.0\tСервисный департамент\n",
      "True\t12.0\tТехническая поддержка\n",
      "True\t777.0\tЗакупки \n"
     ]
    }
   ],
   "source": [
    "base.set_values(table, ['bool', 'float', 'str'])"
   ]
  },
  {
   "cell_type": "code",
   "execution_count": 42,
   "id": "75e3b1e6",
   "metadata": {},
   "outputs": [
    {
     "name": "stdout",
     "output_type": "stream",
     "text": [
      "ID\t\tDaniil\t\tНазвание\n",
      "True\t56.0\tКоммерческий департамент\n",
      "True\t111.0\tМаркетинг и реклама\n",
      "True\t789.0\tДепартамент персонала\n",
      "True\t394.0\tСервисный департамент\n",
      "True\t12.0\tТехническая поддержка\n",
      "True\t777.0\tЗакупки \n"
     ]
    }
   ],
   "source": [
    "base.set_value(table, 'Daniil', 2)"
   ]
  },
  {
   "cell_type": "code",
   "execution_count": 43,
   "id": "ff1bfe1c",
   "metadata": {
    "scrolled": false
   },
   "outputs": [
    {
     "name": "stdout",
     "output_type": "stream",
     "text": [
      "+-------+-------------------+--------------------------+\n",
      "|   ID  | Вышестоящий отдел |         Название         |\n",
      "+-------+-------------------+--------------------------+\n",
      "| OU001 |         56        | Коммерческий департамент |\n",
      "| OU002 |        1111       |   Маректинг и реклама    |\n",
      "| OU003 |        789        |  Департамент персонала   |\n",
      "| OU004 |        394        |  Сервисный департамент   |\n",
      "| OU005 |         12        |  Техническая поддержка   |\n",
      "| OU006 |        777        |         Закупки          |\n",
      "+-------+-------------------+--------------------------+\n"
     ]
    }
   ],
   "source": [
    "base.print_table('import_ou_csv.csv')"
   ]
  },
  {
   "cell_type": "markdown",
   "id": "6ef5861a",
   "metadata": {},
   "source": [
    "__Дополнительные задания:__\n",
    "\n",
    "1) Реализовать поддержку дополнительного типа значений «дата и время» на основе модуля datetime. Баллы - 2\n",
    "\n",
    "2) Добавить набор функций add, sub, mul, div, которые обеспечат выполнение арифмитических операций для столбцов типа int, float, bool. Продумать сигнатуру функций и изменения в другие функции, которые позволят удобно выполнять арифметические операции со столбцами и присваивать результаты выч. Реализовать реагирование на некорректные значения с помощью генерации исключительных ситуаций. Баллы - 2"
   ]
  },
  {
   "cell_type": "code",
   "execution_count": 2,
   "id": "66ec5253",
   "metadata": {},
   "outputs": [],
   "source": [
    "from my_package import additional"
   ]
  },
  {
   "cell_type": "code",
   "execution_count": 3,
   "id": "bb5eb0c8",
   "metadata": {},
   "outputs": [
    {
     "name": "stdout",
     "output_type": "stream",
     "text": [
      "+-------+-------------------+--------------------------+-------------------------+\n",
      "|   ID  | Вышестоящий отдел |         Название         | Дата упразднения отдела |\n",
      "+-------+-------------------+--------------------------+-------------------------+\n",
      "| OU001 |         56        | Коммерческий департамент |        2022-11-06       |\n",
      "| OU002 |        111        |   Маркетинг и реклама    |        2011-05-01       |\n",
      "| OU003 |        789        |  Департамент персонала   |        2016-11-06       |\n",
      "| OU004 |        394        |  Сервисный департамент   |        2000-10-01       |\n",
      "| OU005 |         12        |  Техническая поддержка   |        2008-11-06       |\n",
      "| OU006 |        777        |         Закупки          |        2005-05-13       |\n",
      "+-------+-------------------+--------------------------+-------------------------+\n"
     ]
    }
   ],
   "source": [
    "additional.abolishing_date(table, [[2022, 11, 6], [2011, 5, 1], [2016, 11, 6], [2000, 10, 1], [2008, 11, 6], [2005, 5, 13]])"
   ]
  },
  {
   "cell_type": "code",
   "execution_count": 4,
   "id": "06595f52",
   "metadata": {},
   "outputs": [
    {
     "name": "stdout",
     "output_type": "stream",
     "text": [
      "406\n",
      "12\n",
      "9468\n",
      "2.00253807106599\n"
     ]
    }
   ],
   "source": [
    "additional.add(table, 2, [2, 3])\n",
    "\n",
    "additional.sub(table, 2, [1, 4])\n",
    "\n",
    "additional.mul(table, 2, [1, 3])\n",
    "\n",
    "additional.div(table, 2, [1, 2], False)"
   ]
  }
 ],
 "metadata": {
  "kernelspec": {
   "display_name": "Python 3 (ipykernel)",
   "language": "python",
   "name": "python3"
  },
  "language_info": {
   "codemirror_mode": {
    "name": "ipython",
    "version": 3
   },
   "file_extension": ".py",
   "mimetype": "text/x-python",
   "name": "python",
   "nbconvert_exporter": "python",
   "pygments_lexer": "ipython3",
   "version": "3.9.7"
  }
 },
 "nbformat": 4,
 "nbformat_minor": 5
}
